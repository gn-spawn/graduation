{
 "cells": [
  {
   "cell_type": "code",
   "execution_count": 1,
   "metadata": {},
   "outputs": [],
   "source": [
    "%matplotlib inline"
   ]
  },
  {
   "cell_type": "markdown",
   "metadata": {},
   "source": [
    "## ザ・プレデターのデータを読み込む"
   ]
  },
  {
   "cell_type": "code",
   "execution_count": 68,
   "metadata": {},
   "outputs": [
    {
     "data": {
      "text/html": [
       "<div>\n",
       "<style scoped>\n",
       "    .dataframe tbody tr th:only-of-type {\n",
       "        vertical-align: middle;\n",
       "    }\n",
       "\n",
       "    .dataframe tbody tr th {\n",
       "        vertical-align: top;\n",
       "    }\n",
       "\n",
       "    .dataframe thead th {\n",
       "        text-align: right;\n",
       "    }\n",
       "</style>\n",
       "<table border=\"1\" class=\"dataframe\">\n",
       "  <thead>\n",
       "    <tr style=\"text-align: right;\">\n",
       "      <th></th>\n",
       "      <th>time</th>\n",
       "      <th>hr</th>\n",
       "    </tr>\n",
       "  </thead>\n",
       "  <tbody>\n",
       "    <tr>\n",
       "      <th>0</th>\n",
       "      <td>2018-09-29 17:39:00</td>\n",
       "      <td>103</td>\n",
       "    </tr>\n",
       "    <tr>\n",
       "      <th>1</th>\n",
       "      <td>2018-09-29 17:40:00</td>\n",
       "      <td>106</td>\n",
       "    </tr>\n",
       "    <tr>\n",
       "      <th>2</th>\n",
       "      <td>2018-09-29 17:41:00</td>\n",
       "      <td>102</td>\n",
       "    </tr>\n",
       "    <tr>\n",
       "      <th>3</th>\n",
       "      <td>2018-09-29 17:42:00</td>\n",
       "      <td>79</td>\n",
       "    </tr>\n",
       "    <tr>\n",
       "      <th>4</th>\n",
       "      <td>2018-09-29 17:43:00</td>\n",
       "      <td>88</td>\n",
       "    </tr>\n",
       "  </tbody>\n",
       "</table>\n",
       "</div>"
      ],
      "text/plain": [
       "                 time   hr\n",
       "0 2018-09-29 17:39:00  103\n",
       "1 2018-09-29 17:40:00  106\n",
       "2 2018-09-29 17:41:00  102\n",
       "3 2018-09-29 17:42:00   79\n",
       "4 2018-09-29 17:43:00   88"
      ]
     },
     "execution_count": 68,
     "metadata": {},
     "output_type": "execute_result"
    }
   ],
   "source": [
    "import pandas as pd\n",
    "import numpy as np\n",
    "import matplotlib.pyplot as plt\n",
    "import seaborn as sns\n",
    "sns.set()\n",
    "\n",
    "df = pd.read_csv('../data/the_predator.csv',dtype={0: str,1:str}, parse_dates=[0])\n",
    "# df = pd.read_csv('../data/the_predator.csv')\n",
    "\n",
    "df.head()"
   ]
  },
  {
   "cell_type": "markdown",
   "metadata": {},
   "source": [
    "ta-libを使う(ta-libはdfを読めないからnp.arrayにしてあげる)"
   ]
  },
  {
   "cell_type": "code",
   "execution_count": 59,
   "metadata": {},
   "outputs": [],
   "source": [
    "import talib as ta\n",
    "ta.get_function_groups\n",
    "\n",
    "hr = np.array(df['hr'], dtype='f8')"
   ]
  },
  {
   "cell_type": "code",
   "execution_count": 60,
   "metadata": {},
   "outputs": [
    {
     "data": {
      "text/plain": [
       "array([        nan,         nan,         nan,         nan,         nan,\n",
       "               nan,         nan,         nan,         nan,         nan,\n",
       "               nan,         nan,         nan,         nan, 42.47787611,\n",
       "       45.09421702, 38.01778265, 43.54167712, 39.72867514, 39.05893812,\n",
       "       38.02349048, 38.60772187, 37.46666127, 47.49387818, 39.84814592,\n",
       "       40.3650819 , 41.97610066, 44.14281874, 46.3022351 , 44.01178392,\n",
       "       44.01178392, 40.73963109, 42.06495668, 44.08500817, 45.45054968,\n",
       "       45.45054968, 38.84859453, 42.5904824 , 61.06409347, 48.46723869,\n",
       "       45.12557753, 46.87859347, 48.21478175, 50.87615115, 45.4285533 ,\n",
       "       51.83679339, 51.83679339, 51.37038725, 57.17927356, 52.36744548,\n",
       "       50.9813637 , 49.56844414, 46.34117978, 46.34117978, 44.88854199,\n",
       "       46.10153984, 57.24830474, 48.0130767 , 45.1248587 , 45.1248587 ,\n",
       "       47.7296171 , 45.40841568, 51.95123779, 42.63800775, 46.8367612 ,\n",
       "       50.31795178, 49.44623721, 46.82540718, 52.67796611, 49.09678723,\n",
       "       46.14097707, 48.52482183, 49.48789578, 55.33721851, 47.5781755 ,\n",
       "       46.74771876, 47.24355633, 47.76731144, 52.81236372, 48.29150226,\n",
       "       48.29150226, 62.0911267 , 49.22886908, 48.50744688, 48.91058629,\n",
       "       50.57737782, 47.64773065, 49.88088652, 56.65140802, 50.20664486,\n",
       "       53.61620581, 56.80171086, 50.20105584, 49.42785542, 52.57441937,\n",
       "       47.05658875, 49.11080478, 55.1127479 , 51.43776287, 47.63684348,\n",
       "       49.64058613, 51.63375095, 46.4825283 , 46.92119946, 50.42229964,\n",
       "       50.85863992, 48.55746505, 47.62913534, 48.68563625, 46.65830923,\n",
       "       53.44362634, 47.89222756])"
      ]
     },
     "execution_count": 60,
     "metadata": {},
     "output_type": "execute_result"
    }
   ],
   "source": [
    "ta.RSI(hr)"
   ]
  },
  {
   "cell_type": "code",
   "execution_count": 77,
   "metadata": {},
   "outputs": [
    {
     "data": {
      "text/plain": [
       "'99'"
      ]
     },
     "execution_count": 77,
     "metadata": {},
     "output_type": "execute_result"
    }
   ],
   "source": []
  },
  {
   "cell_type": "code",
   "execution_count": 82,
   "metadata": {},
   "outputs": [
    {
     "ename": "AttributeError",
     "evalue": "module 'seaborn' has no attribute 'relplot'",
     "output_type": "error",
     "traceback": [
      "\u001b[0;31m---------------------------------------------------------------------------\u001b[0m",
      "\u001b[0;31mAttributeError\u001b[0m                            Traceback (most recent call last)",
      "\u001b[0;32m<ipython-input-82-08783b6bdbd0>\u001b[0m in \u001b[0;36m<module>\u001b[0;34m()\u001b[0m\n\u001b[0;32m----> 1\u001b[0;31m \u001b[0msns\u001b[0m\u001b[0;34m.\u001b[0m\u001b[0mrelplot\u001b[0m\u001b[0;34m(\u001b[0m\u001b[0mdata\u001b[0m\u001b[0;34m=\u001b[0m\u001b[0mdf\u001b[0m\u001b[0;34m,\u001b[0m  \u001b[0mkind\u001b[0m\u001b[0;34m=\u001b[0m\u001b[0;34m\"line\"\u001b[0m\u001b[0;34m)\u001b[0m\u001b[0;34m\u001b[0m\u001b[0m\n\u001b[0m",
      "\u001b[0;31mAttributeError\u001b[0m: module 'seaborn' has no attribute 'relplot'"
     ]
    }
   ],
   "source": [
    "sns.relplot(data=df,  kind=\"line\")"
   ]
  }
 ],
 "metadata": {
  "kernelspec": {
   "display_name": "Python 3",
   "language": "python",
   "name": "python3"
  },
  "language_info": {
   "codemirror_mode": {
    "name": "ipython",
    "version": 3
   },
   "file_extension": ".py",
   "mimetype": "text/x-python",
   "name": "python",
   "nbconvert_exporter": "python",
   "pygments_lexer": "ipython3",
   "version": "3.6.5"
  }
 },
 "nbformat": 4,
 "nbformat_minor": 1
}
